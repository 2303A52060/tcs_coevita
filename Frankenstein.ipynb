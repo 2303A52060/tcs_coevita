{
  "nbformat": 4,
  "nbformat_minor": 0,
  "metadata": {
    "colab": {
      "provenance": [],
      "authorship_tag": "ABX9TyNyvdIogFsy3Gj8NXEvE1pY",
      "include_colab_link": true
    },
    "kernelspec": {
      "name": "python3",
      "display_name": "Python 3"
    },
    "language_info": {
      "name": "python"
    }
  },
  "cells": [
    {
      "cell_type": "markdown",
      "metadata": {
        "id": "view-in-github",
        "colab_type": "text"
      },
      "source": [
        "<a href=\"https://colab.research.google.com/github/2303A52060/tcs_coevita/blob/main/Frankenstein.ipynb\" target=\"_parent\"><img src=\"https://colab.research.google.com/assets/colab-badge.svg\" alt=\"Open In Colab\"/></a>"
      ]
    },
    {
      "cell_type": "code",
      "execution_count": 1,
      "metadata": {
        "colab": {
          "base_uri": "https://localhost:8080/"
        },
        "id": "KYFXs-bVnlwf",
        "outputId": "7f47b4c8-6641-469a-865a-4c48df72944f"
      },
      "outputs": [
        {
          "output_type": "stream",
          "name": "stdout",
          "text": [
            "4\n",
            "awakening=snakefangs+wolfbane\n",
            "veritaserum=snakefangs+awakening\n",
            "dragontonic=snakefangs+velarin\n",
            "dragontonic=awakening+veritaserum\n",
            "dragontonic\n",
            "1\n"
          ]
        }
      ],
      "source": [
        "from collections import defaultdict\n",
        "import sys\n",
        "sys.setrecursionlimit(10000)\n",
        "\n",
        "def min_orbs(potion, recipes, memo):\n",
        "    if potion in memo:\n",
        "        return memo[potion]\n",
        "\n",
        "    if potion not in recipes:  # base case → potion is an item\n",
        "        memo[potion] = 0\n",
        "        return 0\n",
        "\n",
        "    min_cost = float('inf')\n",
        "    for recipe in recipes[potion]:\n",
        "        # cost = (number of ingredients - 1) + sum(cost of each ingredient)\n",
        "        cost = len(recipe) - 1\n",
        "        for ingredient in recipe:\n",
        "            cost += min_orbs(ingredient, recipes, memo)\n",
        "        min_cost = min(min_cost, cost)\n",
        "\n",
        "    memo[potion] = min_cost\n",
        "    return min_cost\n",
        "\n",
        "\n",
        "def solve():\n",
        "    n = int(input().strip())\n",
        "    recipes = defaultdict(list)\n",
        "\n",
        "    for _ in range(n):\n",
        "        line = input().strip()\n",
        "        left, right = line.split(\"=\")\n",
        "        potion = left.strip()\n",
        "        ingredients = right.split(\"+\")\n",
        "        recipes[potion].append(ingredients)\n",
        "\n",
        "    target = input().strip()\n",
        "    memo = {}\n",
        "    print(min_orbs(target, recipes, memo))\n",
        "\n",
        "\n",
        "# Run the function\n",
        "if __name__ == \"__main__\":\n",
        "    solve()\n"
      ]
    }
  ]
}
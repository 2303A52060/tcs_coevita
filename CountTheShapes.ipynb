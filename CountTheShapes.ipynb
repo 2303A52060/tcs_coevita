{
  "nbformat": 4,
  "nbformat_minor": 0,
  "metadata": {
    "colab": {
      "provenance": [],
      "authorship_tag": "ABX9TyPG/93D2MTBw7usowLxxlEJ",
      "include_colab_link": true
    },
    "kernelspec": {
      "name": "python3",
      "display_name": "Python 3"
    },
    "language_info": {
      "name": "python"
    }
  },
  "cells": [
    {
      "cell_type": "markdown",
      "metadata": {
        "id": "view-in-github",
        "colab_type": "text"
      },
      "source": [
        "<a href=\"https://colab.research.google.com/github/2303A52060/tcs_coevita/blob/main/CountTheShapes.ipynb\" target=\"_parent\"><img src=\"https://colab.research.google.com/assets/colab-badge.svg\" alt=\"Open In Colab\"/></a>"
      ]
    },
    {
      "cell_type": "code",
      "execution_count": 5,
      "metadata": {
        "colab": {
          "base_uri": "https://localhost:8080/"
        },
        "id": "GiqwMSu2oeqF",
        "outputId": "99b34a5b-8c30-42df-c017-4971f2d17d32"
      },
      "outputs": [
        {
          "output_type": "stream",
          "name": "stdout",
          "text": [
            "Enter number of line segments: 15\n",
            "Enter line segments (x1 y1 x2 y2):\n",
            "0 0 1 0\n",
            "3 1 3 3\n",
            "3 3 1 3\n",
            "5 3 4 3\n",
            "5 4 6 4\n",
            "1 0 0 1\n",
            "0 1 0 0\n",
            "1 1 3 1\n",
            "6 4 6 3\n",
            "1 3 1 1\n",
            "4 1 5 1\n",
            "6 3 6 2\n",
            "5 1 5 3\n",
            "3 0 4 0\n",
            "4 3 4 1\n",
            "Number of closed figures formed: 3\n"
          ]
        }
      ],
      "source": [
        "from collections import defaultdict\n",
        "\n",
        "def dfs(node, visited, graph):\n",
        "    stack = [node]\n",
        "    visited[node] = True\n",
        "    edges, vertices = 0, 0\n",
        "    nodes_set = set()\n",
        "\n",
        "    while stack:\n",
        "        u = stack.pop()\n",
        "        nodes_set.add(u)\n",
        "        vertices += 1\n",
        "        for v in graph[u]:\n",
        "            edges += 1\n",
        "            if not visited[v]:\n",
        "                visited[v] = True\n",
        "                stack.append(v)\n",
        "    return edges // 2, vertices\n",
        "\n",
        "\n",
        "def count_closed_figures(segments):\n",
        "    graph = defaultdict(list)\n",
        "\n",
        "    # Build graph\n",
        "    for x1, y1, x2, y2 in segments:\n",
        "        u = (x1, y1)\n",
        "        v = (x2, y2)\n",
        "        graph[u].append(v)\n",
        "        graph[v].append(u)\n",
        "\n",
        "    visited = defaultdict(bool)\n",
        "    closed_shapes = 0\n",
        "\n",
        "    # DFS traversal to detect closed figures\n",
        "    for node in graph:\n",
        "        if not visited[node]:\n",
        "            edges, vertices = dfs(node, visited, graph)\n",
        "            if edges >= vertices:\n",
        "                closed_shapes += 1\n",
        "    return closed_shapes\n",
        "\n",
        "\n",
        "# ---------------------------\n",
        "# Main Program with Input/Output\n",
        "# ---------------------------\n",
        "if __name__ == \"__main__\":\n",
        "    N = int(input(\"Enter number of line segments: \"))\n",
        "    segments = []\n",
        "    print(\"Enter line segments (x1 y1 x2 y2):\")\n",
        "    for _ in range(N):\n",
        "        x1, y1, x2, y2 = map(int, input().split())\n",
        "        segments.append((x1, y1, x2, y2))\n",
        "\n",
        "    result = count_closed_figures(segments)\n",
        "    print(\"Number of closed figures formed:\", result)\n"
      ]
    }
  ]
}
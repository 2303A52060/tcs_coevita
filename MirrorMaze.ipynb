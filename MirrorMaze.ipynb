{
  "nbformat": 4,
  "nbformat_minor": 0,
  "metadata": {
    "colab": {
      "provenance": [],
      "authorship_tag": "ABX9TyMus3JUgRh/Sn+4+RRL1inQ",
      "include_colab_link": true
    },
    "kernelspec": {
      "name": "python3",
      "display_name": "Python 3"
    },
    "language_info": {
      "name": "python"
    }
  },
  "cells": [
    {
      "cell_type": "markdown",
      "metadata": {
        "id": "view-in-github",
        "colab_type": "text"
      },
      "source": [
        "<a href=\"https://colab.research.google.com/github/2303A52060/tcs_coevita/blob/main/MirrorMaze.ipynb\" target=\"_parent\"><img src=\"https://colab.research.google.com/assets/colab-badge.svg\" alt=\"Open In Colab\"/></a>"
      ]
    },
    {
      "cell_type": "code",
      "execution_count": 1,
      "metadata": {
        "colab": {
          "base_uri": "https://localhost:8080/"
        },
        "id": "0VzGNevDqrVf",
        "outputId": "b10c6529-371f-4f99-8d37-a8e1f73b70af"
      },
      "outputs": [
        {
          "output_type": "stream",
          "name": "stdout",
          "text": [
            "Enter grid size (M N): 5 5 \n",
            "Enter grid (use '/', '\\', '0'):\n",
            "/ / 0 0 \\\n",
            "0 0 0 / 0\n",
            "0 \\ 0 0 /\n",
            "\\ / \\ / 0\n",
            "0 0 \\ \\ \\\n",
            "Maximum loop length: 10\n"
          ]
        }
      ],
      "source": [
        "def move(x, y, d, grid, M, N):\n",
        "    \"\"\"\n",
        "    Simulates the movement of light in the grid.\n",
        "    Directions (d):\n",
        "        0 = up, 1 = right, 2 = down, 3 = left\n",
        "    \"\"\"\n",
        "    if d == 0:   # up\n",
        "        x -= 1\n",
        "    elif d == 1: # right\n",
        "        y += 1\n",
        "    elif d == 2: # down\n",
        "        x += 1\n",
        "    elif d == 3: # left\n",
        "        y -= 1\n",
        "    return x, y, d\n",
        "\n",
        "\n",
        "def reflect(d, mirror):\n",
        "    \"\"\"Returns new direction after hitting a mirror\"\"\"\n",
        "    if mirror == '/':\n",
        "        return {0:1, 1:0, 2:3, 3:2}[d]\n",
        "    elif mirror == '\\\\':\n",
        "        return {0:3, 3:0, 2:1, 1:2}[d]\n",
        "    return d\n",
        "\n",
        "\n",
        "def max_loop(grid, M, N):\n",
        "    max_len = 0\n",
        "    visited_global = set()\n",
        "\n",
        "    for i in range(M):\n",
        "        for j in range(N):\n",
        "            for d in range(4):  # try all directions\n",
        "                if (i, j, d) in visited_global:\n",
        "                    continue\n",
        "                visited = {}\n",
        "                x, y, dirn = i, j, d\n",
        "                length = 0\n",
        "\n",
        "                while 0 <= x < M and 0 <= y < N:\n",
        "                    state = (x, y, dirn)\n",
        "                    if state in visited:\n",
        "                        loop_len = length - visited[state]\n",
        "                        max_len = max(max_len, loop_len)\n",
        "                        break\n",
        "                    if state in visited_global:\n",
        "                        break\n",
        "                    visited[state] = length\n",
        "                    visited_global.add(state)\n",
        "\n",
        "                    # reflect if mirror\n",
        "                    dirn = reflect(dirn, grid[x][y])\n",
        "                    x, y, dirn = move(x, y, dirn, grid, M, N)\n",
        "                    length += 1\n",
        "    return max_len\n",
        "\n",
        "\n",
        "# ---------------------------\n",
        "# Main Program with Input/Output\n",
        "# ---------------------------\n",
        "if __name__ == \"__main__\":\n",
        "    M, N = map(int, input(\"Enter grid size (M N): \").split())\n",
        "    print(\"Enter grid (use '/', '\\\\', '0'):\")\n",
        "    grid = []\n",
        "    for _ in range(M):\n",
        "        row = input().split()\n",
        "        grid.append(row)\n",
        "\n",
        "    result = max_loop(grid, M, N)\n",
        "    print(\"Maximum loop length:\", result)\n"
      ]
    }
  ]
}
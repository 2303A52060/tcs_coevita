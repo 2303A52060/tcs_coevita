{
  "nbformat": 4,
  "nbformat_minor": 0,
  "metadata": {
    "colab": {
      "provenance": [],
      "authorship_tag": "ABX9TyOW+1oZYChvGDcs8klhBlXC",
      "include_colab_link": true
    },
    "kernelspec": {
      "name": "python3",
      "display_name": "Python 3"
    },
    "language_info": {
      "name": "python"
    }
  },
  "cells": [
    {
      "cell_type": "markdown",
      "metadata": {
        "id": "view-in-github",
        "colab_type": "text"
      },
      "source": [
        "<a href=\"https://colab.research.google.com/github/2303A52060/tcs_coevita/blob/main/FaultySegment.ipynb\" target=\"_parent\"><img src=\"https://colab.research.google.com/assets/colab-badge.svg\" alt=\"Open In Colab\"/></a>"
      ]
    },
    {
      "cell_type": "code",
      "execution_count": 7,
      "metadata": {
        "colab": {
          "base_uri": "https://localhost:8080/"
        },
        "id": "IunVVewbsRgR",
        "outputId": "6a091d37-93d6-4d97-9e18-058cbb94af63"
      },
      "outputs": [
        {
          "output_type": "stream",
          "name": "stdout",
          "text": [
            "Enter number of characters: 5\n",
            " _     _\n",
            "| |_  _|   _|_|\n",
            "| |    |_   _ _|\n",
            "Faulty character position: 1\n"
          ]
        }
      ],
      "source": [
        "# 7-segment display encoding (3x3 flattened to string)\n",
        "SEGMENTS = {\n",
        "    \"0\": \" _ | ||_|\",\n",
        "    \"1\": \"     |  |\",\n",
        "    \"2\": \" _  _||_ \",\n",
        "    \"3\": \" _  _| _|\",\n",
        "    \"4\": \"   |_|  |\",\n",
        "    \"5\": \" _ |_  _|\",\n",
        "    \"6\": \" _ |_ |_|\",\n",
        "    \"7\": \" _   |  |\",\n",
        "    \"8\": \" _ |_||_|\",\n",
        "    \"9\": \" _ |_| _|\",\n",
        "    \"+\": \"   _ | | \",\n",
        "    \"-\": \"   _     \",\n",
        "    \"*\": \" *  * *  \",   # simplified pattern\n",
        "    \"%\": \" / / / / \",\n",
        "    \"=\": \"   _  _  \"\n",
        "}\n",
        "\n",
        "# Convert 3x3 block into string\n",
        "def block_to_string(block):\n",
        "    return \"\".join(block)\n",
        "\n",
        "def parse_display(lines, N):\n",
        "    chars = []\n",
        "    for i in range(N):\n",
        "        block = [\n",
        "            lines[0][i*3:(i+1)*3],\n",
        "            lines[1][i*3:(i+1)*3],\n",
        "            lines[2][i*3:(i+1)*3]\n",
        "        ]\n",
        "        chars.append(block_to_string(block))\n",
        "    return chars\n",
        "\n",
        "def solve():\n",
        "    N = int(input(\"Enter number of characters: \"))\n",
        "    lines = [input() for _ in range(3)]\n",
        "\n",
        "    # Parse into characters\n",
        "    chars = parse_display(lines, N)\n",
        "\n",
        "    # Try each character as faulty\n",
        "    for i, c in enumerate(chars):\n",
        "        for k, pattern in SEGMENTS.items():\n",
        "            diff = sum(a != b for a, b in zip(c, pattern))\n",
        "            if diff == 1:  # only one LED toggle\n",
        "                # Reconstruct equation\n",
        "                candidate = [SEGMENTS.get(d, d) for d in chars]\n",
        "                candidate[i] = pattern\n",
        "                return i+1  # 1-based index\n",
        "    return -1\n",
        "\n",
        "# ---------------------------\n",
        "# Main with I/O\n",
        "# ---------------------------\n",
        "if __name__ == \"__main__\":\n",
        "    pos = solve()\n",
        "    print(\"Faulty character position:\", pos)\n",
        "\n"
      ]
    }
  ]
}
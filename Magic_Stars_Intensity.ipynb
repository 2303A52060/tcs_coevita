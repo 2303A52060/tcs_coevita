{
  "nbformat": 4,
  "nbformat_minor": 0,
  "metadata": {
    "colab": {
      "provenance": [],
      "authorship_tag": "ABX9TyOu4ErpiCaXlIQJr2AHYUqW",
      "include_colab_link": true
    },
    "kernelspec": {
      "name": "python3",
      "display_name": "Python 3"
    },
    "language_info": {
      "name": "python"
    }
  },
  "cells": [
    {
      "cell_type": "markdown",
      "metadata": {
        "id": "view-in-github",
        "colab_type": "text"
      },
      "source": [
        "<a href=\"https://colab.research.google.com/github/2303A52060/tcs_coevita/blob/main/Magic_Stars_Intensity.ipynb\" target=\"_parent\"><img src=\"https://colab.research.google.com/assets/colab-badge.svg\" alt=\"Open In Colab\"/></a>"
      ]
    },
    {
      "cell_type": "code",
      "execution_count": 1,
      "metadata": {
        "colab": {
          "base_uri": "https://localhost:8080/"
        },
        "id": "IqOnW67suHrp",
        "outputId": "cd6ab334-279e-4fd9-c0f2-aeb56e0297d6"
      },
      "outputs": [
        {
          "output_type": "stream",
          "name": "stdout",
          "text": [
            "Enter number of lines: 7\n",
            "Enter lines (x1 y1 x2 y2):\n",
            "4 2 4 6\n",
            "6 5 6 7\n",
            "1 3 3 5\n",
            "3 5 4 4\n",
            "3 3 7 7\n",
            "2 2 2 5\n",
            "4 4 5 3\n",
            "Enter K (star type): 4\n",
            "Total intensity of 4 stars: 2\n"
          ]
        }
      ],
      "source": [
        "from collections import defaultdict\n",
        "\n",
        "def on_segment(x1, y1, x2, y2, px, py):\n",
        "    return min(x1, x2) <= px <= max(x1, x2) and min(y1, y2) <= py <= max(y1, y2)\n",
        "\n",
        "def intersect(l1, l2):\n",
        "    x1, y1, x2, y2 = l1\n",
        "    x3, y3, x4, y4 = l2\n",
        "\n",
        "    denom = (x1-x2)*(y3-y4) - (y1-y2)*(x3-x4)\n",
        "    if denom == 0:\n",
        "        return None  # parallel\n",
        "\n",
        "    px = ((x1*y2 - y1*x2)*(x3-x4) - (x1-x2)*(x3*y4 - y3*x4)) / denom\n",
        "    py = ((x1*y2 - y1*x2)*(y3-y4) - (y1-y2)*(x3*y4 - y3*x4)) / denom\n",
        "\n",
        "    if on_segment(x1,y1,x2,y2,px,py) and on_segment(x3,y3,x4,y4,px,py):\n",
        "        return (round(px), round(py))\n",
        "    return None\n",
        "\n",
        "def cells_touched(line, px, py):\n",
        "    x1, y1, x2, y2 = line\n",
        "    if (px, py) == (x1, y1):\n",
        "        return abs(x2-px) + abs(y2-py)\n",
        "    if (px, py) == (x2, y2):\n",
        "        return abs(x1-px) + abs(y1-py)\n",
        "    # Star cuts line into two\n",
        "    return [abs(px-x1)+abs(py-y1), abs(px-x2)+abs(py-y2)]\n",
        "\n",
        "def magic_stars(lines, K):\n",
        "    intersections = defaultdict(list)\n",
        "    n = len(lines)\n",
        "\n",
        "    # Find all intersection points\n",
        "    for i in range(n):\n",
        "        for j in range(i+1, n):\n",
        "            p = intersect(lines[i], lines[j])\n",
        "            if p:\n",
        "                intersections[p].append(i)\n",
        "                intersections[p].append(j)\n",
        "\n",
        "    total_intensity = 0\n",
        "\n",
        "    # Check for K-stars\n",
        "    for point, idxs in intersections.items():\n",
        "        unique_idxs = set(idxs)\n",
        "        if len(unique_idxs) == K:\n",
        "            px, py = point\n",
        "            lengths = []\n",
        "            for idx in unique_idxs:\n",
        "                val = cells_touched(lines[idx], px, py)\n",
        "                if isinstance(val, list):\n",
        "                    lengths.extend(val)\n",
        "                else:\n",
        "                    lengths.append(val)\n",
        "            total_intensity += min(lengths)\n",
        "    return total_intensity\n",
        "\n",
        "# ---------------------------\n",
        "# Main Program with Input/Output\n",
        "# ---------------------------\n",
        "if __name__ == \"__main__\":\n",
        "    N = int(input(\"Enter number of lines: \"))\n",
        "    lines = []\n",
        "    print(\"Enter lines (x1 y1 x2 y2):\")\n",
        "    for _ in range(N):\n",
        "        x1,y1,x2,y2 = map(int,input().split())\n",
        "        lines.append((x1,y1,x2,y2))\n",
        "    K = int(input(\"Enter K (star type): \"))\n",
        "\n",
        "    result = magic_stars(lines, K)\n",
        "    print(\"Total intensity of\", K, \"stars:\", result)\n"
      ]
    }
  ]
}